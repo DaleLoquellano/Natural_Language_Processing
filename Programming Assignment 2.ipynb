{
  "metadata": {
    "kernelspec": {
      "name": "python",
      "display_name": "Python (Pyodide)",
      "language": "python"
    },
    "language_info": {
      "codemirror_mode": {
        "name": "python",
        "version": 3
      },
      "file_extension": ".py",
      "mimetype": "text/x-python",
      "name": "python",
      "nbconvert_exporter": "python",
      "pygments_lexer": "ipython3",
      "version": "3.8"
    }
  },
  "nbformat_minor": 4,
  "nbformat": 4,
  "cells": [
    {
      "cell_type": "markdown",
      "source": "## Programming Assignment 2 <br> 23104064 <br> Dale N. Loquellano BSCS - 1 <br> MW 1:30 - 3:30 <br>\n# Task 1: <br>\nConsider the following experiment: <br>\n1. The experiment consists of $n$ idenctial trials. <br>\n2. The outcome of each trial falls into one of $k$ classes or cells. <br>\n3. The probability that the outcome of a single trial falls into cell $i$, is $p_i, i=1,2...,k$ and remains the same from trial to trial. Notice that $p_1+p_2+p_3+...+p_k=1$.\n4. The trials are independent.\n5. The random variables of interest are $Y_1,Y_2...,Y_k$, where $Y_i$ equals the number of trials for which the outcome falls into cell $i$. Notice that $Y_1+Y_2+Y_3+...+Y_k=n$.\n6. The joint probability distribution $P(y) = \\frac{n!}{y_1!y_2!y_3!...y_n}P_{1}^{y_1}P_{2}^{y_2}P_{3}^{y_3}...P_{n}^{yn}$",
      "metadata": {}
    },
    {
      "cell_type": "markdown",
      "source": "## Question 1: Show that the expected value $E[y] = \\sum_y \\cdot P(y) = n \\cdot p_i $<br>\n***\nTo show that the expected value $E[Y_i] = n \\cdot p_i$, we can follow these steps: <br>\n#### 1. Define the Expected Value: <br>\nThe expected value of $Y_i$ is given by:$E[Y_i] = \\sum_{y_i} y_i \\cdot P(Y_i = y_i)$ <br>\n#### 2. Use the Joint Distribution: <br>\nThe joint probability distribution of $Y_1, Y_2,...,Y_k$ is: $P(y_1,y_2,...,y_k) = \\frac{n!}{y_1!y_2!...y_k!}p_1^{y_1}p_2^{y_2}...p_k^{y_k}$ where $y_1+y_2+...+y_k=n$. <br>\n#### 3. Marginal Distribution of Y_i: <br>\nSince the trials are independent and follow the multinomial distribution, the maringal distribution of $Y_i$ is binomial: $Y_i ~ Binomial(n,p_i)$ The binomial probability mass function is: <br>\n$P(Y_i=y_i) = \\binom{n}{y_i}p_i^{y_i}(1-p)^{n-y_i}$ <br>\n#### 4. Expected Value of Binomial Random Variable: <br>\nFor a binomial random variable $ Y_i $ with parameters $ n $ and $ p_i $, the expected value is well known: <br>\n$ E[Y_i] = n \\cdot p_i$ <br> \nThus we have: <br>\n$ E[Y_i] = n \\cdot p_i$ <br>\nFor completeness, let’s derive this using the definition of expected value explicitly. <br>\n#### 5. Derivation Using Definition: <br>\n$E[Y_i] = \\sum_{y_i=0}^{n} y_i \\cdot P(Y_i = y_i)$ <br>\nSubstitute the binomial probability mass function: <br>\n$ E[Y_i] =\\sum_{y_i=0}^{n} y_i \\cdot \\binom{n}{y_i} p_i^{y_i} (1 - p_i)^{n - y_i}$ <br>\n#### 6. Simplfy the Summation: <br>\n$ E[Y_i] = \\sum_{y_i=0}^{n} y_i \\cdot \\frac{n!}{y_i!(n - y_i)!} p_i^{y_i} (1 - p_i)^{n - y_i} $\n<br>\nNotice that $ y_i \\cdot \\frac{n!}{y_i!(n - y_i)!} = n \\cdot \\frac{(n-1)!}{(y_i - 1)! (n - y_i)!} = n \\cdot \\binom{n-1}{y_i-1} $, so we get: <br>\n$ E[Y_i] = n \\cdot \\sum_{y_i=0}^{n} \\binom{n-1}{y_i-1} p_i^{y_i} (1 - p_i)^{n - y_i}$\n#### 7. Adjust the Summation Index <br>\nLet $ j = y_i - 1 $. Then the summation becomes: <br>\n$ E[Y_i] = n \\cdot \\sum_{j=-1}^{n-1} \\binom{n-1}{j} p_i^{j+1} (1 - p_i)^{n-1-j}$<br>\nNotice that when $ j = -1 $, the term is zero because the binomial coefficient $ \\binom{n-1}{-1} = 0 $. <br>\nTherefore, we can write: <br>\n$ E[Y_i] = n \\cdot p_i \\sum_{j=0}^{n-1} \\binom{n-1}{j} p_i^{j} (1 - p_i)^{n-1-j}$ <br>\n#### 8. Recognize the Binmomial Theorem: <br>\nThe summation is a Binomial Theorem: <br>\n$\\sum_{j=0}^{n-1} \\binom{n-1}{j} p_i^j (1 - p_i)^{n-1-j} = (p_i + (1 - p_i))^{n-1} = 1$ <br>\nTherefore: <br>\n$E[Y_i] = n \\cdot p_i \\cdot 1 = n \\cdot p_i$ <br>\nThe expected value $E[Y_i] $ is indeed $ n \\cdot p_i$\n$\\boxed{E[Y_i] = n \\cdot p_i}$ <br>",
      "metadata": {}
    },
    {
      "cell_type": "markdown",
      "source": "### Question 2a: Probability of Specific Sample Counts <br>\n***\nGiven the proportions for different age groups and the sample size $ n = 500 $, we need to find the probability of the sample containing: <br>\n- 100 people aged 18-24<br>\n- 200 people aged 25-34<br>\n- 200 people aged 45-64<br>\n\\begin{array}{c|c}\n\\text{Age} & \\text{Proportion} \\\\\n\\hline\n18-24 & 0.18 \\\\\n25-34 & 0.23 \\\\\n35-44 & 0.16 \\\\\n45-64 & 0.27 \\\\\n65-100 & 0.16 \\\\\n\\end{array}\n\n\n\\noindent \\textbf{Multinomial Probability} <br>\n  The probability mass function for the multinomial distribution is given by:<br>\n  $P(Y_1 = y_1, Y_2 = y_2, \\ldots, Y_k = y_k) = \\frac{n!}{y_1! y_2! \\cdots y_k!} p_1^{y_1} p_2^{y_2} \\cdots p_k^{y_k}$ <br>\n  where $ n = 500 $ and $ p_i $ are the proportions for each age group. <br>\n  We need to find: $P(Y_{18-24} = 100, Y_{25-34} = 200, Y_{45-64} = 200)$ <br>\n  First, we need to verify if the remaining counts for other age groups make sense: <br>\n  - People aged 35-44: Since we don't have any condition on this group, we let it be $ y_{35-44}. $ <br>\n  - People aged 65-100: Since we don't have any condition on this group, we let it be $ y_{65-100}. $ <br>\n  From the total sample size, we have: <br>\n  $Y_{35-44} + Y_{65-100} = 500 - (100 + 200 + 200) = 500 - 500 = 0$ <br>\n  This implies $ Y_{35-44} = 0 $ and $ Y_{65-100} = 0 $. <br>\n  \\noindent \\\\textbf{Substituting into the Multinomial PMF:} <br>\n  Given: <br>\n  $n = 500, \\quad y_1 = 100, \\quad y_2 = 200, \\quad y_3 = 0, \\quad y_4 = 200, \\quad y_5 = 0$ <br>\n $ p_1 = 0.18, \\quad p_2 = 0.23, \\quad p_3 = 0.16, \\quad p_4 = 0.27, \\quad p_5 = 0.16 $ <br>\n The probability is: <br>\n $P(Y_1 = 100, Y_2 = 200, Y_4 = 200) = \\frac{500!}{100! \\cdot 200! \\cdot 0! \\cdot 200! \\cdot 0!} \\cdot 0.18^{100} \\cdot 0.23^{200} \\cdot 0.16^0 \\cdot 0.27^{200} \\cdot 0.16^0$ <br>\n\n ### Question 2b: Expected Value for the Age Group 65-100 <br>\n ***\n The expected value $ E[Y_i] $ for a multinomial random variable $ Y_i $ with sample size $ n $ and probability $ p_i $ is given by: <br>\n $E[Y_i] = n \\cdot p_i$ <br>\n For the age group 65-100: <br>\n $n = 500, \\\\quad p_i = 0.16$<br>\n Thus: $E[Y_{65-100}] = 500 \\cdot 0.16 = 80$ <br>\n - The probability of getting 100 people aged 18-24, 200 people aged 25-34, and 200 people aged 45-64 in a sample of 500 is given by: <br>\n $ P(Y_1 = 100, Y_2 = 200, Y_4 = 200) = \\frac{500!}{100! \\cdot 200! \\cdot 200!} \\cdot 0.18^{100} \\cdot 0.23^{200} \\cdot 0.27^{200}$ <br>\n The expected value for obtaining a person in the age group 65-100 is: <br>\n $E[Y_{65-100}] = 80$ <br>",
      "metadata": {}
    },
    {
      "cell_type": "markdown",
      "source": "### Task 2 <br>\n***\nGiven the experiment with the parameters: <br>\n1. The experiment consists of a fixed number, $n$, of identical trials.<br>\n2. Each trial results in one of two outcomes: success, $S$, or failure, $F$.<br>\n3. The probability of success on a single trial is $p$ and remains the same from trial to trial. The probability of failure is $q = 1 - p$.<br>\n4. The trials are independent.\n5. The random variable of interest is $Y$, the number of successes observed during the $n$ trials. <br>\nWe aim to derive the probability distribution of the random variable $Y$.<br>\nThe random variable $Y$ follows a binomial distribution because: <br>\n- There are a fixed number of trials, $n$. <br>\n- Each trial has two possible outcomes.<br>\n- The probability of success $p$ is constant for each trial.<br>\n- The trials are independent.<br>\nThe probability mass function (PMF) of a binomially distributed random variable $Y$ is given by: <br>\n$P(Y = k) = \\binom{n}{k} p^k (1-p)^{n-k}$<br>\nfor $k = 0, 1, 2, \\\\ldots, n$<br>\nHere, $\\binom{n}{k}$ is the binomial coefficient and is calculated as: <br>\n$\\binom{n}{k} = \\frac{n!}{k!(n-k)!}$<br>\nTherefore, the probability distribution of $Y$ is: $P(Y = k) = \\\\frac{n!}{k!(n-k)!} p^k (1-p)^{n-k}$ <br>\nfor $k = 0, 1, 2, \\\\ldots, n$ <br>",
      "metadata": {}
    },
    {
      "cell_type": "markdown",
      "source": "### Question 2 \n***\nTo show that the expectation $E[Y]$ of a binomial random variable $Y$ with parameters $n$ and $p$ is equal to $np$, we start with the definition of the expectation: <br>\n$E[Y] = \\sum_{k=0}^{n} k \\cdot P(Y = k)$\nGiven that $Y$ follows a binomial distribution, the probability mass function is: <br>\n$P(Y = k) = \\binom{n}{k} p^k (1-p)^{n-k}$ <br>\nThus, the expectation can be written as: <br>\n$E[Y] = \\sum_{k=0}^{n} k \\cdot \\binom{n}{k} p^k (1-p)^{n-k}$ <br>\nTo simplify this, we recognize that: <br>\n$\\binom{n}{k} = \\frac{n!}{k!(n-k)!}$ <br>\nRewriting the expectation: <br>\n$E[Y] = \\sum_{k=0}^{n} k \\cdot \\frac{n!}{k!(n-k)!} p^k (1-p)^{n-k}$ <br>\nWe can factor out an $n$ from the binomial coefficient: <br>\n$E[Y] = \\sum_{k=0}^{n} k \\cdot \\frac{n}{k} \\cdot \\frac{(n-1)!}{(k-1)!(n-k)!} p^k (1-p)^{n-k}$<br>\nSimplifying the terms: <br>\n$E[Y] = n \\sum_{k=1}^{n} \\frac{(n-1)!}{(k-1)!(n-k)!} p^k (1-p)^{n-k}$<br>\nNext, we make a change of index in the summation. Let $j = k-1$. Then when $k$ ranges from $1$ to $n$, $j$ ranges from $0$ to $n-1$. Substituting $k = j+1$: <br>\n$E[Y] = n \\sum_{j=0}^{n-1} \\frac{(n-1)!}{j!(n-1-j)!} p^{j+1} (1-p)^{n-1-j}$ <br>\nThis can be written as: <br>\n$E[Y] = n p \\sum_{j=0}^{n-1} \\frac{(n-1)!}{j!(n-1-j)!} p^j (1-p)^{n-1-j}$ <br>\nRecognize that the summation is now the binomial expansion of $(p + (1-p))^{n-1}$, which equals $1$: <br>\n$\\sum_{j=0}^{n-1} \\binom{n-1}{j} p^j (1-p)^{n-1-j} = 1$ <br>\nThus, $E[Y] = n p \\cdot 1 = np$ <br>\nTherefore, the expectation of the binomial random variable $Y$ is: <br>\n$E[Y] = np$ <br>",
      "metadata": {}
    },
    {
      "cell_type": "markdown",
      "source": "### Question 3<br>\n***\nGiven: <br>\n- The probability of recovery without the medication, $p = 0.30$\n- The number of trials, $n = 10$.\n- We want to find the probability that at least nine people recover out of the ten. <br>\nThe random variable $Y$ follows a binomial distribution with parameters $n$ and $p$: <br>\n$Y \\sim \\text{Binomial}(n=10, p=0.30)$ <br>\nWe need to find: <br>\n$P(Y \\geq 9) = P(Y = 9) + P(Y = 10)$<br>\nThe probability mass function (PMF) of a binomial distribution is: <br>\n$P(Y = k) = \\binom{n}{k} p^k (1-p)^{n-k}$ <br>\nFirst, calculate $P(Y = 9)$: <br>\n$P(Y = 9) = \\binom{10}{9} (0.30)^9 (0.70)^1$ <br>\n$\\binom{10}{9} = \\frac{10!}{9!1!} = 10$ <br>\n$P(Y = 9) = 10 \\times (0.30)^9 \\times (0.70)^1$<br>\n$P(Y = 9) = 10 \\times (0.30)^9 \\times 0.70$ <br>\nNext, calculate $P(Y = 10)$: <br>\n$P(Y = 10) = \\binom{10}{10} (0.30)^{10} (0.70)^0$\n$\\binom{10}{10} = 1$ <br>\n$P(Y = 10) = 1 \\times (0.30)^{10} \\times 1$\n$P(Y = 10) = (0.30)^{10}$ <br>\nNow, sum these probabilities: <br>\n$P(Y \\geq 9) = P(Y = 9) + P(Y = 10)$ <br>\n$P(Y \\geq 9) = 10 \\times (0.30)^9 \\times 0.70 + (0.30)^{10}$ <br>\nCalculate the numerical values: <br>\n$P(Y = 9) \\approx 10 \\times (1.9683 \\times 10^{-5}) \\times 0.70 \\approx 10 \\times 1.37781 \\times 10^{-5} \\approx 1.37781 \\times 10^{-4}$ <br>\n$P(Y = 10) \\approx (0.30)^{10} \\approx 5.9049 \\times 10^{-6}$ <br>\n$P(Y \\geq 9) \\approx 1.37781 \\times 10^{-4} + 5.9049 \\times 10^{-6} \\approx 1.43686 \\times 10^{-4}$ <br>\nThus, the probability that at least nine out of ten people will recover, assuming the medication is worthless, is approximately: <br>\n$P(Y \\geq 9) \\approx 1.43686 \\times 10^{-4}$ <br>",
      "metadata": {}
    },
    {
      "cell_type": "markdown",
      "source": "### Question 4 <br>\n*** \nGiven: <br>\n- The lot contains 5000 electrical fuses. <br>\n- 5% of the fuses are defective, implying $p = 0.05$. <br>\n- We want to find the probability of observing at least one defective fuse in a sample of 5. <br>\nThe random variable $Y$ follows a binomial distribution with parameters $n$ and $p$: <br>\n$Y \\sim \\text{Binomial}(n=5, p=0.05)$ <br>\nWe need to find: <br>\n$P(Y \\geq 1) = 1 - P(Y = 0)$ <br>\nThe probability mass function (PMF) of a binomial distribution is: <br>\n$P(Y = k) = \\binom{n}{k} p^k (1-p)^{n-k}$ <br>\nFirst, calculate $P(Y = 0)$: <br>\n$P(Y = 0) = \\binom{5}{0} (0.05)^0 (0.95)^5$ <br>\n$\\binom{5}{0} = 1$ <br>\n$P(Y = 0) = 1 \\times 1 \\times (0.95)^5$ <br>\nNow, calculate $1 - P(Y = 0)$: <br>\n$P(Y \\geq 1) = 1 - (0.95)^5$ <br>\n$P(Y \\geq 1) = 1 - 0.77378$<br>\n$P(Y \\geq 1) \\approx 0.22622$<br>\nThus, the probability of observing at least one defective fuse in a sample of 5 is approximately: <br>\n$P(Y \\geq 1) \\approx 0.22622$ <br>",
      "metadata": {}
    },
    {
      "cell_type": "markdown",
      "source": "# Task 3\n\n### Question 1 <br>\n*** \nFind a general formula for the expected value of this distribution. <br>\n\\begin{aligned}\nE[Y] &= \\sum_{y=0}^{\\infty} y \\cdot \\frac{\\lambda^y}{y!} e^{-\\lambda} \\\\\n&= \\sum_{y=1}^{\\infty} y \\cdot \\frac{\\lambda^y}{y!} e^{-\\lambda} \\quad \\text{(since } y = 0 \\text{ term is 0)} \\\\\n&= \\sum_{y=1}^{\\infty} \\frac{\\lambda^y}{(y-1)!} e^{-\\lambda} \\\\\n&= e^{-\\lambda} \\sum_{y=1}^{\\infty} \\frac{\\lambda^y}{(y-1)!} \\quad \\text{(pulling out } e^{-\\lambda} \\text{ as a constant)} \\\\\n&= e^{-\\lambda} \\sum_{y=0}^{\\infty} \\frac{\\lambda^{y+1}}{y!} \\quad \\text{(reindexing the sum)} \\\\\n&= e^{-\\lambda} \\cdot \\lambda \\sum_{y=0}^{\\infty} \\frac{\\lambda^y}{y!} \\quad \\text{(factor out } \\lambda \\text{ from the sum)} \\\\\n&= e^{-\\lambda} \\cdot \\lambda \\cdot e^{\\lambda} \\quad \\text{(using the Taylor series expansion of } e^x) \\\\\n&= \\lambda \\quad \\text{(simplify)}\n\\end{aligned} <br>\n\n\n",
      "metadata": {}
    },
    {
      "cell_type": "markdown",
      "source": "### Question 2 <br>\n***\nThe probability of a region not containing any seedlings is the complement of the probability of it containing at least one seedling. Let $p$ be the probability that a region contains at least one seedling. Then, the probability that none of the regions contain seedlings is $1 - p$ <br>\nGiven that the mean density of seedlings is approximately five per square yard, the probability of a square yard containing no seedlings is $e^{-5}$ (since this follows a Poisson distribution with mean $\\\\lambda = 5$). <br>\nTherefore, the probability that a region of one square yard contains at least one seedling is $1 - e^{-5}$. <br>\nSince the sampling regions are independent, the probability that none of the ten regions contain seedlings is $(1 - e^{-5})^{10}$. <br>\nThus, the probability that none of the regions will contain seedlings is: <br>\n$ 1 - (1 - e^{-5})^{10} $ <br>\nThis expression evaluates to approximately 0.00674. ",
      "metadata": {}
    },
    {
      "cell_type": "code",
      "source": "",
      "metadata": {
        "trusted": true
      },
      "outputs": [],
      "execution_count": null
    }
  ]
}