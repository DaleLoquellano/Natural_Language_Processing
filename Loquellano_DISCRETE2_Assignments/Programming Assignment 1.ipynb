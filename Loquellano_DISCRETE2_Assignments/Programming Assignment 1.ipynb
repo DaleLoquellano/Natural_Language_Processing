{
  "metadata": {
    "kernelspec": {
      "name": "python",
      "display_name": "Python (Pyodide)",
      "language": "python"
    },
    "language_info": {
      "codemirror_mode": {
        "name": "python",
        "version": 3
      },
      "file_extension": ".py",
      "mimetype": "text/x-python",
      "name": "python",
      "nbconvert_exporter": "python",
      "pygments_lexer": "ipython3",
      "version": "3.8"
    }
  },
  "nbformat_minor": 4,
  "nbformat": 4,
  "cells": [
    {
      "cell_type": "markdown",
      "source": "### Programming Assignment 1 <br> 23104064 <br>Dale Loquellano BSCS - 1<br>MW 1:30 - 3:30 <br>\n\n1. Recall the definition of a rational number, denoted  as $\\mathbb{Q}$. Prove that the \nEuler's number $e = \\sum_{k=0}^{\\infty} \\frac{1}{k!} \\not\\in \\mathbb{Q}$. A factorial \ndefined as $k! = (k)(k-1)(k-2)(k-3)...,\\forall k \\in Z^+$, not that $0!=1$. Furthermore a sum notation $\\sum_{k=0}^{\\infty} k=0+1+2+3+....+...$\n# Question 1\n***\nTo prove that Euler's number $e = \\sum_{k=0}^{\\infty} \\frac{1}{k!} \\not\\in \\mathbb{Q}$, we'll use proof by contradiction. Assume $e$ is rational, meaning $e=\\frac{p}{q}$ where $p$ and $q$ are integers with no common factors other than $1$ and $q != 0$. <br>\nThen $e=\\frac{p}{q} = \\sum_{k=0}^{\\infty} \\frac{1}{k!} \\not\\in \\mathbb{Q}$ <br> \nby multiplying both sides of the equation with $q!$, we get: $e \\cdot q! = p \\cdot \\sum_{k=0}{\\infty} \\frac{1}{k!}$\n$\\Rightarrow e \\cdot q! = p+p\\cdot\\frac{1}{1!}+p\\cdot\\frac{1}{2!}+p\\cdot\\frac{1}{3!}+...$ <br>\n$\\Rightarrow e \\cdot q!=p(1+\\frac{1}{1!}+\\frac{1}{2!}+\\frac{1}{3!}+...)$ <br>\nBut, $1+\\frac{1}{1!}+\\frac{1}{2!}+\\frac{1}{3!}+...$ is the sum of an infinite series which is the equivalent of $e$. Which means that $e$ can also be replaced:<br>$e\\cdot q!=p \\cdot e$ <br>\n$\\Rightarrow q! = p$ <br>\nThe equation shows that $p$ divides $q!$ for any integer p, which condtracidts the definition of a prime number <br>\nHence, our assumption that $e$ is rational is false. Therefore, $e$ is irrational <br>\n$\\boxed{e\\not\\in\\mathbb{Q}}$",
      "metadata": {}
    },
    {
      "cell_type": "markdown",
      "source": "# Question 2 - Prove Minkowski's Inequality for sums, $ \\forall p > 1, (a_k,b_k) > 0; $\n***\n## Minkowski's Inequality for Sums:\nFor all p>1 and positive real numbers $a_k$ and $b_k$, Minkowski's inequality states that: <br>\n$ (\\sum_{k=1}^{n} (a_k+b_k)^p)^{1/p}\\le (\\sum_{k=1}^n a_k^p)^{1/p}+(\\sum_{k=1}^n b_k^p)^{1/p}$ <br>\n### Proof: <br>\nLet $A = (\\sum_{k=1}^n a_k^p)^{1/p}$ and $B = (\\sum_{k=1}^n b_k^p)^{1/p}$ <br>\nConsider the function $f(x) = x^p$ which is convex for $p > 1$. By Jensen's inequality, we have: <br>\n$\\frac{1}{2} [f(A) + f(B)] \\le f(\\frac{A+B}{2})$<br>\n$\\Rightarrow \\frac{1}{2} [A^p+B^p]\\le(\\frac{A+B}{2})^p $ <br>\n$\\Rightarrow A^p + B^p \\le 2^{p-1}(A^p+B^p)$<br>\n$\\Rightarrow 2^{1/p}(A^p+B^p)^{1/p}\\le A+B$<br>\n$\\Rightarrow (A^p+B^p)^{1/p} \\le (A+B) \\cdot 2^{1/p}$<br>\nNow, consider the sum of $(a_k+b_k)^p : \\sum_{k=1}^n (a_k+b_k)^p \\le (\\sum_{k=1}{n}1)\\cdot(\\sum_{k=1}^n(a_k+b_k)^p)^{1/p}$ <br>\n= $n^{1/p}(\\sum_{k=1}^n(a_k+b_k)^p)^{1/p}$ <br>\nUsing the inequality derived earlier, we have: <br>\n$n^{1/p}(\\sum_{k=1}^n(a_k+b_k)^p)^{1/p} \\le (\\sum_{k=1}^n a_k^p)^{1/p} + (\\sum_{k=1}^n b_k^p)^{1/p}$ <br>\n$\\Rightarrow (\\sum_{k=1}^n(a_k+b_k)^p)^{1/p} \\le (\\sum_{k=1}^n a_k^p)^{1/p} + (\\sum_{k=1}^n b_k^p)^{1/p}$ <br>\nMeaning, Minkowski's inequalirt for sums is proven.",
      "metadata": {}
    },
    {
      "cell_type": "markdown",
      "source": "## Question 3 - Prove the triangle inequality \n## $|x+y|\\le|x|+|y|, \\forall(x,y)\\in \\mathbb{R}$\n***\n### Proof of Triangle Inequality: <br>\nFor any real numbers $x$ and $y$, we want to prove that $|x+y| \\le |x| + |y|. $ <br>\n## Case 1: $x+y \\le0$ <br>\nIn this case, $|x+y| = x + y, |x| = x, and |y| = y$. Therefore, we have: <br>\n$|x+y| = x+y=|x|+|y|$ <br>\n## Case 2: $x+y<0$ <br>\nIn this case, $|x+y|=-(x+y),|x|=-x$ and $|y|=-y$. Therefore, we have: <br>\n$|x+y| =-(x+y) = -x-y=|x|+|y|$<br>\n### Conclusion: <br>\nIn both cases, we have $|x+y|\\le|x|+|y|$. Thus, the triangle inequality holds for all real numbers x and y. <br>",
      "metadata": {}
    },
    {
      "cell_type": "markdown",
      "source": "## Question 4 - Prove Sedrakayan's Lemma $\\forall u_i, v_i \\in \\mathbb{R^+}$: <br>\n***\n### Sedrakyan's Lemma: <br>\nFor all positive real numbers $u_i$ and $v_i$, Sedrakyan's Lemma states that: <br>\n$(\\sum_{i=1}^n u_i)(\\sum_{i=1}^n v_i)\\le n^2 \\sum_{i=1}^n u_i v_i$ <br>\n### Proof: <br>\nWe can rewrite the right-hand side of the inequality as: <br>\n$(\\sum_{i=1}^n u_i)(\\sum_{j=1}^n v_i)=\\sum_{i=1}^n\\sum_{j=1}^n u_i v_j$<br>\nSimilarly, the left-hand side becomes: <br>\n$n^2 \\sum_{i=1}^n\\sum_{j=1}^n u_i v_j = \\sum_{i=1}^n\\sum_{j=1}^n nu_i v_j = \\sum_{i=1}^n\\sum_{j=1}^n u_i v_j + \\sum_{i=1}^n\\sum_{j=1}^n (n-1)u_i v_j+...+\\sum_{i=1}^n\\sum_{j=1}^n u_i v_j$ <br>\nNow, observe that each term in the right-hand side appears in the left-hand side, and there are n^2 terms on both sides. <br>\nBy rearranging terms, we see that each term on the left-hand side is greater than or equal to the corresponding term on the right-hand side. <br>\nWhich is why we have: $\\sum_{i=1}^n\\sum_{j=1}^n u_i v_j \\le n^2 \\sum_{i=1}^n u_i v_i$ <br>\nTherefore, Sedrakyan's Lemma is Proven.",
      "metadata": {}
    },
    {
      "cell_type": "code",
      "source": "",
      "metadata": {
        "trusted": true
      },
      "outputs": [],
      "execution_count": null
    }
  ]
}